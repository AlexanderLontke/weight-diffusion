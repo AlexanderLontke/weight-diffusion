{
 "cells": [
  {
   "cell_type": "code",
   "execution_count": 1,
   "outputs": [],
   "source": [
    "from pathlib import Path\n",
    "\n",
    "import ray\n",
    "import torch\n",
    "\n",
    "from torch.utils.data import DataLoader\n",
    "\n",
    "from weight_diffusion.data.modelzoo_dataset import ModelZooDataset\n",
    "from weight_diffusion.data.gpt_dataset import GptDataset"
   ],
   "metadata": {
    "collapsed": false,
    "pycharm": {
     "name": "#%%\n"
    }
   }
  },
  {
   "cell_type": "code",
   "execution_count": 2,
   "outputs": [
    {
     "name": "stderr",
     "output_type": "stream",
     "text": [
      "Loading Models: 100%|██████████| 15/15 [00:02<00:00,  6.52it/s]\n",
      "Indexing dataset: 100%|██████████| 15/15 [00:00<00:00, 488.90it/s]\n"
     ]
    }
   ],
   "source": [
    "dataset = GptDataset(\n",
    "    data_dir=Path(\"../../data/tune_zoo_mnist_uniform/\"),\n",
    "    checkpoint_property_of_interest=\"validation_loss\",\n",
    "    openai_coeff=4.185,\n",
    ")"
   ],
   "metadata": {
    "collapsed": false,
    "pycharm": {
     "name": "#%%\n"
    }
   }
  },
  {
   "cell_type": "code",
   "execution_count": 3,
   "outputs": [
    {
     "data": {
      "text/plain": "{'parameters_0': tensor([0.6521, 0.0107, 0.1979,  ..., 0.0100, 0.0100, 0.0100]),\n 'parameters_1': tensor([ 0.5051, -0.0031,  0.3017,  ..., -0.0675,  0.0550, -0.0586]),\n 'validation_loss_0': '2.034968137741089',\n 'validation_loss_1': '1.999113917350769'}"
     },
     "execution_count": 3,
     "metadata": {},
     "output_type": "execute_result"
    }
   ],
   "source": [
    "dataset[0]"
   ],
   "metadata": {
    "collapsed": false,
    "pycharm": {
     "name": "#%%\n"
    }
   }
  },
  {
   "cell_type": "code",
   "execution_count": 4,
   "outputs": [
    {
     "name": "stderr",
     "output_type": "stream",
     "text": [
      "Loading Models: 100%|██████████| 15/15 [00:00<00:00, 17.67it/s]\n",
      "Indexing dataset: 100%|██████████| 15/15 [00:00<00:00, 1238.84it/s]\n"
     ]
    }
   ],
   "source": [
    "mz_dataset = ModelZooDataset(\n",
    "    data_dir=Path(\"../../data/tune_zoo_mnist_uniform/\"),\n",
    "    checkpoint_property_of_interest=\"validation_loss\",\n",
    ")"
   ],
   "metadata": {
    "collapsed": false,
    "pycharm": {
     "name": "#%%\n"
    }
   }
  },
  {
   "cell_type": "code",
   "execution_count": 7,
   "outputs": [],
   "source": [
    "(sample_chkpt, _), (_,_) = mz_dataset.__getitem__(0)"
   ],
   "metadata": {
    "collapsed": false,
    "pycharm": {
     "name": "#%%\n"
    }
   }
  },
  {
   "cell_type": "code",
   "execution_count": 11,
   "outputs": [
    {
     "data": {
      "text/plain": "['module_list.0.weight',\n 'module_list.0.bias',\n 'module_list.3.weight',\n 'module_list.3.bias',\n 'module_list.6.weight',\n 'module_list.6.bias',\n 'module_list.9.weight',\n 'module_list.9.bias',\n 'module_list.11.weight',\n 'module_list.11.bias']"
     },
     "execution_count": 11,
     "metadata": {},
     "output_type": "execute_result"
    }
   ],
   "source": [
    "list(sample_chkpt.keys())"
   ],
   "metadata": {
    "collapsed": false,
    "pycharm": {
     "name": "#%%\n"
    }
   }
  },
  {
   "cell_type": "code",
   "execution_count": null,
   "outputs": [],
   "source": [],
   "metadata": {
    "collapsed": false,
    "pycharm": {
     "name": "#%%\n"
    }
   }
  }
 ],
 "metadata": {
  "kernelspec": {
   "display_name": "Python 3",
   "language": "python",
   "name": "python3"
  },
  "language_info": {
   "codemirror_mode": {
    "name": "ipython",
    "version": 2
   },
   "file_extension": ".py",
   "mimetype": "text/x-python",
   "name": "python",
   "nbconvert_exporter": "python",
   "pygments_lexer": "ipython2",
   "version": "2.7.6"
  }
 },
 "nbformat": 4,
 "nbformat_minor": 0
}