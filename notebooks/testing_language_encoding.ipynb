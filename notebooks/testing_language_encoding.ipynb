{
 "cells": [
  {
   "cell_type": "code",
   "execution_count": 20,
   "metadata": {
    "collapsed": true,
    "pycharm": {
     "name": "#%%\n"
    }
   },
   "outputs": [],
   "source": [
    "from pathlib import Path\n",
    "import numpy as np\n",
    "from tqdm import tqdm\n",
    "from transformers import BertTokenizer, BertModel\n",
    "from weight_diffusion.data.modelzoo_dataset import get_all_directories_for_a_path, parse_progress_csv"
   ]
  },
  {
   "cell_type": "code",
   "execution_count": 17,
   "outputs": [],
   "source": [
    "tokenizer = BertTokenizer.from_pretrained('tbs17/MathBERT', output_hidden_states=True)"
   ],
   "metadata": {
    "collapsed": false,
    "pycharm": {
     "name": "#%%\n"
    }
   }
  },
  {
   "cell_type": "code",
   "execution_count": 18,
   "outputs": [],
   "source": [
    "data_dir = Path(\"../../data/tune_zoo_mnist_uniform\")"
   ],
   "metadata": {
    "collapsed": false,
    "pycharm": {
     "name": "#%%\n"
    }
   }
  },
  {
   "cell_type": "code",
   "execution_count": 22,
   "outputs": [
    {
     "name": "stderr",
     "output_type": "stream",
     "text": [
      "100%|██████████| 1000/1000 [01:22<00:00, 12.14it/s]\n"
     ]
    }
   ],
   "source": [
    "prompt_latents_old = []\n",
    "prompt_latents_new = []\n",
    "\n",
    "for model_dir in tqdm(get_all_directories_for_a_path(data_dir)):\n",
    "    model_dir_path = data_dir / model_dir\n",
    "    checkpoint_dirs = get_all_directories_for_a_path(model_dir_path)\n",
    "    model_progress_dict = parse_progress_csv(\n",
    "        path_to_progress_csv= model_dir_path / \"progress.csv\"\n",
    "    )\n",
    "    for checkpoint_directory in checkpoint_dirs:\n",
    "        checkpoint_key = int(checkpoint_directory[-6:])\n",
    "        if checkpoint_key in model_progress_dict.keys():\n",
    "            checkpoint_progress = model_progress_dict[checkpoint_key]\n",
    "            prompt = (\n",
    "                    f\"The training loss is {checkpoint_progress['train_loss']:.4g}. \"\n",
    "                    f\"The training accuracy is {checkpoint_progress['train_acc']:.4g}. \"\n",
    "                    f\"The validation loss is {checkpoint_progress['validation_loss']:.4g}. \"\n",
    "                    f\"The validation accuracy is {checkpoint_progress['validation_acc']:.4g}. \"\n",
    "                    f\"The test loss is {checkpoint_progress['test_loss']:.4g}. \"\n",
    "                    f\"The test accuracy is {checkpoint_progress['test_acc']:.4g}. \"\n",
    "                )\n",
    "            prompt_latents_old += [tokenizer(\n",
    "                prompt,\n",
    "                max_length=77,\n",
    "                return_tensors=\"pt\",\n",
    "                padding=\"max_length\",\n",
    "            )[\"input_ids\"]]\n",
    "            prompt = (\n",
    "                f\"{checkpoint_progress['train_loss']:.4g}. \"\n",
    "                f\"{checkpoint_progress['train_acc']:.4g}. \"\n",
    "                f\"{checkpoint_progress['validation_loss']:.4g}. \"\n",
    "                f\"{checkpoint_progress['validation_acc']:.4g}. \"\n",
    "                f\"{checkpoint_progress['test_loss']:.4g}. \"\n",
    "                f\"{checkpoint_progress['test_acc']:.4g}. \"\n",
    "            )\n",
    "            prompt_latents_new += [tokenizer(\n",
    "                prompt,\n",
    "                max_length=77,\n",
    "                return_tensors=\"pt\",\n",
    "                padding=\"max_length\",\n",
    "            )[\"input_ids\"]]\n",
    "\n",
    "        else:\n",
    "            continue"
   ],
   "metadata": {
    "collapsed": false,
    "pycharm": {
     "name": "#%%\n"
    }
   }
  },
  {
   "cell_type": "code",
   "execution_count": 36,
   "outputs": [
    {
     "data": {
      "text/plain": "294590.85068318126"
     },
     "execution_count": 36,
     "metadata": {},
     "output_type": "execute_result"
    }
   ],
   "source": [
    "np.sum(np.std([x.numpy() for x in prompt_latents_old], axis=0))"
   ],
   "metadata": {
    "collapsed": false,
    "pycharm": {
     "name": "#%%\n"
    }
   }
  },
  {
   "cell_type": "code",
   "execution_count": 37,
   "outputs": [
    {
     "data": {
      "text/plain": "184859.41347257388"
     },
     "execution_count": 37,
     "metadata": {},
     "output_type": "execute_result"
    }
   ],
   "source": [
    "np.sum(np.std([x.numpy() for x in prompt_latents_new], axis=0))"
   ],
   "metadata": {
    "collapsed": false,
    "pycharm": {
     "name": "#%%\n"
    }
   }
  },
  {
   "cell_type": "code",
   "execution_count": null,
   "outputs": [],
   "source": [],
   "metadata": {
    "collapsed": false,
    "pycharm": {
     "name": "#%%\n"
    }
   }
  }
 ],
 "metadata": {
  "kernelspec": {
   "display_name": "Python 3",
   "language": "python",
   "name": "python3"
  },
  "language_info": {
   "codemirror_mode": {
    "name": "ipython",
    "version": 2
   },
   "file_extension": ".py",
   "mimetype": "text/x-python",
   "name": "python",
   "nbconvert_exporter": "python",
   "pygments_lexer": "ipython2",
   "version": "2.7.6"
  }
 },
 "nbformat": 4,
 "nbformat_minor": 0
}